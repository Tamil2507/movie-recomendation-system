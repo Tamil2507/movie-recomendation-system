{
  "nbformat": 4,
  "nbformat_minor": 0,
  "metadata": {
    "colab": {
      "provenance": []
    },
    "kernelspec": {
      "name": "python3",
      "display_name": "Python 3"
    },
    "language_info": {
      "name": "python"
    }
  },
  "cells": [
    {
      "cell_type": "code",
      "execution_count": 1,
      "metadata": {
        "colab": {
          "base_uri": "https://localhost:8080/"
        },
        "id": "qzB3zA7BB5LZ",
        "outputId": "99cad96d-ea39-4db8-b69c-6cc62490b1af"
      },
      "outputs": [
        {
          "output_type": "stream",
          "name": "stdout",
          "text": [
            "Recommended movies for user 1:\n",
            "- Movie B: 0.25298221281347033\n",
            "- Movie C: 0.1386750490563073\n"
          ]
        }
      ],
      "source": [
        "from sklearn.metrics.pairwise import cosine_similarity\n",
        "from sklearn.preprocessing import LabelEncoder\n",
        "import pandas as pd\n",
        "\n",
        "# Sample data (replace with your actual data)\n",
        "data = {'user_id': [1, 1, 1, 2, 2, 3, 3],\n",
        "        'movie_title': ['Movie A', 'Movie B', 'Movie C', 'Movie B', 'Movie D', 'Movie A', 'Movie E'],\n",
        "        'rating': [5, 4, 3, 2, 4, 1, 5]}\n",
        "df = pd.DataFrame(data)\n",
        "\n",
        "# Create user-movie matrix\n",
        "pivot_matrix = df.pivot_table(index='user_id', columns='movie_title', values='rating')\n",
        "\n",
        "# Calculate cosine similarity\n",
        "similarity_matrix = cosine_similarity(pivot_matrix.fillna(0))\n",
        "\n",
        "# Get recommendations for a specific user (e.g., user ID 1)\n",
        "def get_recommendations(user_id, similarity_matrix, pivot_matrix):\n",
        "    user_index = pivot_matrix.index.get_loc(user_id)\n",
        "    similarities = similarity_matrix[user_index]\n",
        "    similar_movies = sorted(enumerate(similarities), key=lambda x: x[1], reverse=True)\n",
        "    return similar_movies[1:6]  # Return top 5 similar movies\n",
        "\n",
        "# Example usage\n",
        "user_id = 1\n",
        "recommendations = get_recommendations(user_id, similarity_matrix, pivot_matrix)\n",
        "\n",
        "print(f\"Recommended movies for user {user_id}:\")\n",
        "for index, similarity in recommendations:\n",
        "    movie_title = pivot_matrix.columns[index]\n",
        "    print(f\"- {movie_title}: {similarity}\")\n"
      ]
    }
  ]
}